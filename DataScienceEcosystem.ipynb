{
  "nbformat": 4,
  "nbformat_minor": 0,
  "metadata": {
    "colab": {
      "provenance": []
    },
    "kernelspec": {
      "name": "python3",
      "display_name": "Python 3"
    },
    "language_info": {
      "name": "python"
    }
  },
  "cells": [
    {
      "cell_type": "markdown",
      "source": [
        "# Data Science Tools and Ecosystem"
      ],
      "metadata": {
        "id": "doU1gbNYoDKP"
      }
    },
    {
      "cell_type": "markdown",
      "source": [
        "# In this notebook, Data Science Tools and Ecosystem are summarized."
      ],
      "metadata": {
        "id": "t6M9CAYpr3jc"
      }
    },
    {
      "cell_type": "markdown",
      "source": [
        "# Some of the popular languages ​​used by data scientists are:\n",
        "\n",
        "# 1.- Python\n",
        "\n",
        "# 2.- R\n",
        "\n",
        "# 3.- SQL\n",
        "\n",
        "# 4.- JULIA\n",
        "\n",
        "# 5.- SCALA"
      ],
      "metadata": {
        "id": "HrcEHq42t9kE"
      }
    },
    {
      "cell_type": "markdown",
      "source": [
        "# Some of the libraries commonly used by data scientists include:\n",
        "\n",
        "# 1.- NumPy\n",
        "# 2.- Pandas\n",
        "# 3.- Matplotlib"
      ],
      "metadata": {
        "id": "Mt-gVoiLwmeB"
      }
    },
    {
      "cell_type": "markdown",
      "source": [
        "# Data Science Tools\n",
        "\n",
        "\n",
        "---\n",
        "\n",
        "\n",
        "# A.- Jupyter Notebook\n",
        "# B.- RStudio\n",
        "# C.- Apache Zeppelin"
      ],
      "metadata": {
        "id": "KNWAGJMKx-pd"
      }
    },
    {
      "cell_type": "markdown",
      "source": [
        "# Below are a few examples of evaluating arithmetic expressions in Python"
      ],
      "metadata": {
        "id": "BZJ7zYPA0G0C"
      }
    },
    {
      "cell_type": "code",
      "source": [
        "# Esta es una expresión aritmética simple para multiplicar y luego sumar números enteros.\n",
        "(3*4)+5\n"
      ],
      "metadata": {
        "colab": {
          "base_uri": "https://localhost:8080/"
        },
        "id": "O-TMMQQg0tTw",
        "outputId": "6d16d13f-b00b-46df-a851-cb589077c1df"
      },
      "execution_count": 3,
      "outputs": [
        {
          "output_type": "execute_result",
          "data": {
            "text/plain": [
              "17"
            ]
          },
          "metadata": {},
          "execution_count": 3
        }
      ]
    },
    {
      "cell_type": "code",
      "source": [
        "# Esto convertirá 200 minutos a horas dividiendo por 60.\n",
        "200 / 60"
      ],
      "metadata": {
        "colab": {
          "base_uri": "https://localhost:8080/"
        },
        "id": "Bwmx96qf1Ntm",
        "outputId": "cc2f3c50-abe5-4f9d-98fc-6d35cc6b24b9"
      },
      "execution_count": 4,
      "outputs": [
        {
          "output_type": "execute_result",
          "data": {
            "text/plain": [
              "3.3333333333333335"
            ]
          },
          "metadata": {},
          "execution_count": 4
        }
      ]
    },
    {
      "cell_type": "markdown",
      "source": [
        "# Goals:\n",
        "\n",
        "# List popular languages ​​for data science.\n",
        "# List common libraries used by data scientists.\n",
        "# Show examples of basic arithmetic operations in Python."
      ],
      "metadata": {
        "id": "L_246BnP1h97"
      }
    },
    {
      "cell_type": "markdown",
      "source": [
        "# Author\n",
        "# KATHERINE MONTENEGRO MARTINEZ"
      ],
      "metadata": {
        "id": "tmTxGFvl4t_i"
      }
    }
  ]
}